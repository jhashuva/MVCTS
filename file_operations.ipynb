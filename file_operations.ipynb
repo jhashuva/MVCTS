{
 "cells": [
  {
   "cell_type": "markdown",
   "metadata": {},
   "source": [
    "# Files and Directories"
   ]
  },
  {
   "cell_type": "markdown",
   "metadata": {},
   "source": [
    "A file is a sequence of bytes,stored in some filesystem,and accessed by a filename.A directory is a collection of files,and possibly other directories.The term folder is a synonym for directo"
   ]
  },
  {
   "cell_type": "markdown",
   "metadata": {},
   "source": [
    "## File input and output"
   ]
  },
  {
   "cell_type": "markdown",
   "metadata": {},
   "source": [
    "### 1. Create or Open with <font color=\"orange\" face=\"courier new\"><i>open()</i></font>"
   ]
  },
  {
   "cell_type": "markdown",
   "metadata": {},
   "source": [
    "You need to call the open function before you do the following:\n",
    "<ul>\n",
    "    <li>Read an existing file</li>\n",
    "    <li>Write to new file</li>\n",
    "    <li>Append to existing file</li>\n",
    "    <li>Overwrite an existing file</li>\n",
    "</ul>\n",
    "<br>\n",
    "<br>\n",
    "Syntax: <font color=\"orange\" face=\"courier new\"><i>fileobj= open( filename, mode)</i></font>\n",
    "<br>\n",
    "<br>\n",
    "<ul>\n",
    "    <li><font color=\"orange\" face=\"courier new\">fileobj</font>: is the file object returned by <font color=\"orange\" face=\"courier new\">open()</font></li>\n",
    "    <li><font color=\"orange\" face=\"courier new\">filename</font>: String name of the  file</li>\n",
    "    <li><font color=\"orange\" face=\"courier new\">mode</font> is a string indicating the file's type and what do you want do with it.</li>\n",
    "</ul>\n",
    "<br>\n",
    "<br>\n",
    "The second letter of <font color=\"orange\" face=\"courier new\">mode</font> is the file's type:\n",
    "<ul>\n",
    "    <li><font color=\"orange\" face=\"courier new\">t</font>(or nothing) means text.</li>\n",
    "     <li><font color=\"orange\" face=\"courier new\">b</font> means binary.</li>\n",
    "</ul>\n",
    "<br><br>\n",
    "After opening the file, you call functions to read or write data; these will be shown in the examples that follow.\n",
    "\n",
    "Last, you need to close the file to ensure that any writes complete, and that memory is freed."
   ]
  },
  {
   "cell_type": "code",
   "execution_count": 1,
   "metadata": {},
   "outputs": [],
   "source": [
    "#example 1\n",
    "file=open('file1.txt','wt')\n",
    "file.close()#free the memory"
   ]
  },
  {
   "cell_type": "markdown",
   "metadata": {},
   "source": [
    "### Write a Text File with <font color=\"orange\" face=\"courier new\"><i>print()</i></font>"
   ]
  },
  {
   "cell_type": "code",
   "execution_count": 2,
   "metadata": {},
   "outputs": [],
   "source": [
    "#example 2\n",
    "file=open('file1.txt','wt')\n",
    "print('file 1 was created',file=file)\n",
    "file.close()"
   ]
  },
  {
   "cell_type": "markdown",
   "metadata": {},
   "source": [
    "### Write a Text File with <font color=\"orange\" face=\"courier new\"><i>write()</i></font>"
   ]
  },
  {
   "cell_type": "code",
   "execution_count": 8,
   "metadata": {},
   "outputs": [],
   "source": [
    "#example 3\n",
    "poem = '''There was a young lady named Bright,\n",
    "... Whose speed was far faster than light;\n",
    "... She started one day\n",
    "... In a relative way,\n",
    "... And returned on the previous night.'''\n",
    "len(poem)\n",
    "file=open('file1.txt','wt')\n",
    "print(poem,file=file)\n",
    "file.close()"
   ]
  },
  {
   "cell_type": "code",
   "execution_count": 10,
   "metadata": {},
   "outputs": [],
   "source": [
    "#example 4\n",
    "poem = '''There was a young lady named Bright,\n",
    "... Whose speed was far faster than light;\n",
    "... She started one day\n",
    "... In a relative way,\n",
    "... And returned on the previous night.'''\n",
    "len(poem)\n",
    "file=open('file2.txt','wt')\n",
    "file.write(poem)\n",
    "file.close()"
   ]
  },
  {
   "cell_type": "markdown",
   "metadata": {},
   "source": [
    "If you have a large source string, you can also write chunks (using slices) until the source is done:\n"
   ]
  },
  {
   "cell_type": "code",
   "execution_count": 12,
   "metadata": {},
   "outputs": [],
   "source": [
    "#exampl 5\n",
    "f = open('file3.txt', 'wt')\n",
    "size = len(poem)\n",
    "offset = 0\n",
    "chunk = 100\n",
    "while True:\n",
    "    if offset > size:\n",
    "        break\n",
    "    f.write(poem[offset:offset+chunk])\n",
    "    offset += chunk\n",
    "f.close()"
   ]
  },
  {
   "cell_type": "code",
   "execution_count": null,
   "metadata": {},
   "outputs": [],
   "source": [
    "#example 6\n"
   ]
  }
 ],
 "metadata": {
  "kernelspec": {
   "display_name": "Python 3",
   "language": "python",
   "name": "python3"
  },
  "language_info": {
   "codemirror_mode": {
    "name": "ipython",
    "version": 3
   },
   "file_extension": ".py",
   "mimetype": "text/x-python",
   "name": "python",
   "nbconvert_exporter": "python",
   "pygments_lexer": "ipython3",
   "version": "3.7.4"
  }
 },
 "nbformat": 4,
 "nbformat_minor": 2
}

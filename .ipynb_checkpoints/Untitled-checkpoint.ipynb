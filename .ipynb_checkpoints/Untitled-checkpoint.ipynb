{
 "cells": [
  {
   "cell_type": "markdown",
   "metadata": {},
   "source": [
    " 1.<pre>_____ is used to create an object</pre>\n",
    " <br>\n",
    " A. class<br>\n",
    " B. constructor<br>\n",
    " C. In-built functions<br>\n",
    " D. User defined functions"
   ]
  },
  {
   "cell_type": "markdown",
   "metadata": {},
   "source": [
    "2. What would be the expected output of the below code:"
   ]
  },
  {
   "cell_type": "code",
   "execution_count": 1,
   "metadata": {},
   "outputs": [
    {
     "name": "stdout",
     "output_type": "stream",
     "text": [
      "Hello World\n"
     ]
    }
   ],
   "source": [
    "class test:\n",
    "     def __init__(self,a=\"Hello World\"):\n",
    "         self.a=a\n",
    " \n",
    "     def display(self):\n",
    "         print(self.a)\n",
    "obj=test()\n",
    "obj.display()"
   ]
  },
  {
   "cell_type": "markdown",
   "metadata": {},
   "source": [
    "a. Prints \"Hello World\"<br>\n",
    "b. The program has an error because constructor can’t have default arguments<br>\n",
    "c. Returns Error<br>\n",
    "d. The program has an error display function doesn’t have parameters\n"
   ]
  },
  {
   "cell_type": "markdown",
   "metadata": {},
   "source": [
    "3. What is setattr() used for?<br>\n",
    "a. "
   ]
  }
 ],
 "metadata": {
  "kernelspec": {
   "display_name": "Python 3",
   "language": "python",
   "name": "python3"
  },
  "language_info": {
   "codemirror_mode": {
    "name": "ipython",
    "version": 3
   },
   "file_extension": ".py",
   "mimetype": "text/x-python",
   "name": "python",
   "nbconvert_exporter": "python",
   "pygments_lexer": "ipython3",
   "version": "3.7.4"
  }
 },
 "nbformat": 4,
 "nbformat_minor": 2
}

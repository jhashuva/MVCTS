{
 "cells": [
  {
   "cell_type": "markdown",
   "metadata": {},
   "source": [
    "<h4><font face=\"times new roman\" color=\"\">1. What would be the expected output of </font><font face='courier new'>mydict={[a,b]: 1,'c':2,'d':3} </font><br>\n",
    "    <font face=\"times new roman\" color=\"orange\">a.</font><font face='courier new' color='orange'> Error</font><br>\n",
    "<font face=\"times new roman\" color=\"orange\">b.</font><font face='courier new' color='orange'> {[a,b]: 1,'c':2,'d':3}</font></h4>"
   ]
  },
  {
   "cell_type": "code",
   "execution_count": null,
   "metadata": {},
   "outputs": [],
   "source": []
  },
  {
   "cell_type": "markdown",
   "metadata": {},
   "source": [
    "<h4><font face=\"times new roman\" color=\"\">2. What would be the expected output of </font><font face='courier new'>mydict={(a,b): 1,'c':2,'d':3} </font><br>\n",
    "    <font face=\"times new roman\" color=\"orange\">a.</font><font face='courier new' color='orange'> Error</font><br>\n",
    "<font face=\"times new roman\" color=\"orange\">b.</font><font face='courier new' color='orange'> {(a,b): 1,'c':2,'d':3}</font></h4>"
   ]
  },
  {
   "cell_type": "code",
   "execution_count": null,
   "metadata": {},
   "outputs": [],
   "source": []
  },
  {
   "cell_type": "markdown",
   "metadata": {},
   "source": [
    "<h4><font face=\"times new roman\" color=\"\">2. Which of the following are true of Python dictionaries: </font><br>\n",
    "    <font face=\"times new roman\" color=\"orange\">a. All keys in the dictionary must be same type</font><br>\n",
    "     <font face=\"times new roman\" color=\"orange\">b. Dictionaries are mutable</font><br>\n",
    "    <font face=\"times new roman\" color=\"orange\">c. A dictionary can contain any object type except another dictionary.</font><br>\n",
    "     <font face=\"times new roman\" color=\"orange\">d. Items are accessed by their position in a dictionary.</font><br>\n",
    "    <font face=\"times new roman\" color=\"orange\">e. Dictionaries can be nested to any depth.</font><br>\n",
    "    <font face=\"times new roman\" color=\"orange\">f. Dictionaries are accessed by key.</font><br>\n",
    "    \n",
    "    "
   ]
  },
  {
   "cell_type": "markdown",
   "metadata": {},
   "source": [
    "<h4><font face=\"times new roman\" color=\"\">3. What would be the expected output of </font><font face='courier new'>d = {\n",
    "    ('foo', 100),\n",
    "    ('bar', 200),\n",
    "    ('baz', 300)\n",
    "} </font><br>\n",
    "    <font face='courier new' color='orange'>a. {'foo': 100, 'bar': 200, 'baz': 300}</font><br>\n",
    "    <font face='courier new' color='orange'>b. {('foo', 100), ('baz', 300), ('bar', 200)}</font><br>\n",
    "    <font face='courier new' color='orange'>c. Error</font><br>\n",
    "    <font face='courier new' color='orange'>d. None</font>"
   ]
  },
  {
   "cell_type": "markdown",
   "metadata": {},
   "source": [
    "<img src='q.jpg' height='200' width='200'>\n",
    "<h4><font face=\"times new roman\" color=\"\">4. How to delete 'baz' from the dictionary </font>"
   ]
  },
  {
   "cell_type": "code",
   "execution_count": null,
   "metadata": {},
   "outputs": [],
   "source": []
  },
  {
   "cell_type": "markdown",
   "metadata": {},
   "source": [
    "<h4><font face='courier new'>d = {'foo': 100, 'bar': 200, 'baz': 300}</font><br>\n",
    "    <font face=\"times new roman\" color=\"\">5. What would be the expected output of </font>\n",
    "    <font face='courier new'>d['bar':'baz']</font><br>\n",
    "     <font face='courier new' color='orange'>a. 200 300</font><br>\n",
    "    <font face='courier new' color='orange'> b. (200, 300)</font><br>\n",
    "     <font face='courier new' color='orange'>c. [200, 300]</font><br>\n",
    "     <font face='courier new' color='orange'>d. Exception</font><br>"
   ]
  },
  {
   "cell_type": "code",
   "execution_count": null,
   "metadata": {},
   "outputs": [],
   "source": []
  },
  {
   "cell_type": "markdown",
   "metadata": {},
   "source": [
    "<h4><font face='courier new'><pre>x = [\n",
    "    'a',\n",
    "    'b',\n",
    "    {\n",
    "        'foo': 1,\n",
    "        'bar':\n",
    "        {\n",
    "            'x' : 10,\n",
    "            'y' : 20,\n",
    "            'z' : 30\n",
    "        },\n",
    "        'baz': 3\n",
    "    },\n",
    "    'c',\n",
    "    'd'\n",
    "]</pre></font><br>\n",
    "    <font face=\"times new roman\" color=\"\">6. How to access value of 30 </font>"
   ]
  },
  {
   "cell_type": "code",
   "execution_count": null,
   "metadata": {},
   "outputs": [],
   "source": []
  },
  {
   "cell_type": "markdown",
   "metadata": {},
   "source": [
    "<h4><font face=\"times new roman\" color=\"\">7. Which of the following could be a valid dictionary key:</font><br>\n",
    "   <font face='courier new' color='orange'>a. ('foo', 'bar')</font><br>\n",
    "    <font face='courier new' color='orange'> b. 'foo'</font><br>\n",
    "     <font face='courier new' color='orange'>c. (3+2j)</font><br>\n",
    "     <font face='courier new' color='orange'>d. ['foo', 'bar']</font><br> \n",
    "    <font face='courier new' color='orange'>e. len</font><br>\n",
    "    <font face='courier new' color='orange'>f. dict(foo=1, bar=2)</font><br>\n",
    "     <font face='courier new' color='orange'>g. dict</font><br>\n",
    "    <font face='courier new' color='orange'>h. def</font><br>"
   ]
  },
  {
   "cell_type": "code",
   "execution_count": null,
   "metadata": {},
   "outputs": [],
   "source": []
  },
  {
   "cell_type": "markdown",
   "metadata": {},
   "source": [
    "<h4><font face='courier new'><pre>x = [\n",
    "    'a',\n",
    "    'b',\n",
    "    {\n",
    "        'foo': 1,\n",
    "        'bar':\n",
    "        {\n",
    "            'x' : 10,\n",
    "            'y' : 20,\n",
    "            'z' : 30\n",
    "        },\n",
    "        'baz': 3\n",
    "    },\n",
    "    'c',\n",
    "    'd'\n",
    "]</pre></font><br>\n",
    "    <font face=\"times new roman\" color=\"\">8. How to check 'Z' exist in the x or not ? </font>"
   ]
  },
  {
   "cell_type": "code",
   "execution_count": null,
   "metadata": {},
   "outputs": [],
   "source": []
  },
  {
   "cell_type": "code",
   "execution_count": null,
   "metadata": {},
   "outputs": [],
   "source": []
  }
 ],
 "metadata": {
  "kernelspec": {
   "display_name": "Python 3",
   "language": "python",
   "name": "python3"
  },
  "language_info": {
   "codemirror_mode": {
    "name": "ipython",
    "version": 3
   },
   "file_extension": ".py",
   "mimetype": "text/x-python",
   "name": "python",
   "nbconvert_exporter": "python",
   "pygments_lexer": "ipython3",
   "version": "3.7.4"
  }
 },
 "nbformat": 4,
 "nbformat_minor": 2
}

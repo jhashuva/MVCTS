{
 "cells": [
  {
   "cell_type": "markdown",
   "metadata": {},
   "source": [
    "<h1><font face=\"times new roman\" color=\"\">DICTIONARIES</font></h1>\n",
    "<ul>\n",
    "    <li><h4><font face=\"times new roman\" color=\"white\">A dictionary is similar to a list,but the order of items doesn’t matter, and they aren’t selected by an offset such as 0 or 1. Instead,you specify a unique key to associate with each value.</font></h4></li>\n",
    "   <li><h4><font face=\"times new roman\" color=\"white\">This key is often a string,but it can actually be any of Python’s immutable types</font></h4></li> \n",
    "    <li><h4><font face=\"times new roman\" color=\"white\">In other languages, dictionaries might be called associative arrays, hashes, or hashmaps.</font></h4></li>\n",
    "    <li><h4><font face=\"times new roman\" color=\"white\">Dictionaries are mutable,so you can add, delete, and change their key-value elements. </font></h4></li>\n",
    "</ul>"
   ]
  },
  {
   "cell_type": "markdown",
   "metadata": {},
   "source": [
    "<h2><font face=\"times new roman\" color=\"orange\">Create dictionary</font></h2>\n",
    "<h4><font face=\"times new roman\" color=\"white\">To create a dictionary, you place curly brackets({}) around comma-separated key : value pairs.The simplest dictionary is an empty one,containing no keys or values at all:</font></h4>"
   ]
  },
  {
   "cell_type": "code",
   "execution_count": 3,
   "metadata": {},
   "outputs": [],
   "source": [
    "empty_dict={}"
   ]
  },
  {
   "cell_type": "code",
   "execution_count": 5,
   "metadata": {},
   "outputs": [
    {
     "data": {
      "text/plain": [
       "{}"
      ]
     },
     "execution_count": 5,
     "metadata": {},
     "output_type": "execute_result"
    }
   ],
   "source": [
    "empty_dict"
   ]
  },
  {
   "cell_type": "code",
   "execution_count": 6,
   "metadata": {},
   "outputs": [
    {
     "data": {
      "text/plain": [
       "dict"
      ]
     },
     "execution_count": 6,
     "metadata": {},
     "output_type": "execute_result"
    }
   ],
   "source": [
    "type(empty_dict)"
   ]
  },
  {
   "cell_type": "code",
   "execution_count": 7,
   "metadata": {},
   "outputs": [],
   "source": [
    "my_data={'SE':'Software Engineering','MVCTSL':'MVC Through Scripting Languages','MPI':'Micro Processor and Interfacing','WE':'Web Engineering'}"
   ]
  },
  {
   "cell_type": "code",
   "execution_count": 8,
   "metadata": {},
   "outputs": [
    {
     "data": {
      "text/plain": [
       "'Software Engineering'"
      ]
     },
     "execution_count": 8,
     "metadata": {},
     "output_type": "execute_result"
    }
   ],
   "source": [
    "my_data['SE']"
   ]
  },
  {
   "cell_type": "code",
   "execution_count": 10,
   "metadata": {},
   "outputs": [],
   "source": [
    "days={'MON':'Monday','TUE':'Tuesday','WED':'Wednesday','THU':'Thuresday', \n",
    "      'FRI':'Friday','SAT':'Saturday',\n",
    "     'SUN':'Sunday'}"
   ]
  },
  {
   "cell_type": "code",
   "execution_count": 11,
   "metadata": {},
   "outputs": [
    {
     "data": {
      "text/plain": [
       "{'MON': 'Monday',\n",
       " 'TUE': 'Tuesday',\n",
       " 'WED': 'Wednesday',\n",
       " 'THU': 'Thuresday',\n",
       " 'FRI': 'Friday',\n",
       " 'SAT': 'Saturday',\n",
       " 'SUN': 'Sunday'}"
      ]
     },
     "execution_count": 11,
     "metadata": {},
     "output_type": "execute_result"
    }
   ],
   "source": [
    "days"
   ]
  },
  {
   "cell_type": "markdown",
   "metadata": {},
   "source": [
    "<h3><font face=\"times new roman\" color=\"cyan\">Create dictionary using</font><font face=\"courier new\" color=\"magenta\"> dict()</font></h3>"
   ]
  },
  {
   "cell_type": "code",
   "execution_count": 14,
   "metadata": {},
   "outputs": [],
   "source": [
    "details=dict(Department='CSE',Year='IIIrd',Sections='A B',Batch_Year='2017')"
   ]
  },
  {
   "cell_type": "code",
   "execution_count": 15,
   "metadata": {},
   "outputs": [
    {
     "data": {
      "text/plain": [
       "{'Department': 'CSE', 'Year': 'IIIrd', 'Sections': 'A B', 'Batch_Year': '2017'}"
      ]
     },
     "execution_count": 15,
     "metadata": {},
     "output_type": "execute_result"
    }
   ],
   "source": [
    "details"
   ]
  },
  {
   "cell_type": "code",
   "execution_count": 16,
   "metadata": {},
   "outputs": [
    {
     "data": {
      "text/plain": [
       "dict"
      ]
     },
     "execution_count": 16,
     "metadata": {},
     "output_type": "execute_result"
    }
   ],
   "source": [
    "type(details)"
   ]
  },
  {
   "cell_type": "markdown",
   "metadata": {},
   "source": [
    "<h4><font face=\"times new roman\" color=\"white\">One limitation of the second way is that the argument namesneed to be legal variable names (no spaces, no reserved words)</font></h4>"
   ]
  },
  {
   "cell_type": "code",
   "execution_count": 18,
   "metadata": {},
   "outputs": [
    {
     "ename": "SyntaxError",
     "evalue": "invalid syntax (<ipython-input-18-ec3a3f45a024>, line 1)",
     "output_type": "error",
     "traceback": [
      "\u001b[1;36m  File \u001b[1;32m\"<ipython-input-18-ec3a3f45a024>\"\u001b[1;36m, line \u001b[1;32m1\u001b[0m\n\u001b[1;33m    details=dict(Department='CSE',Year='IIIrd',Sections='A B',Batch_Year='2017', def='Computers')\u001b[0m\n\u001b[1;37m                                                                                   ^\u001b[0m\n\u001b[1;31mSyntaxError\u001b[0m\u001b[1;31m:\u001b[0m invalid syntax\n"
     ]
    }
   ],
   "source": [
    "details=dict(Department='CSE',Year='IIIrd',Sections='A B',Batch Year='2017', def='Computers')"
   ]
  },
  {
   "cell_type": "code",
   "execution_count": null,
   "metadata": {},
   "outputs": [],
   "source": []
  }
 ],
 "metadata": {
  "kernelspec": {
   "display_name": "Python 3",
   "language": "python",
   "name": "python3"
  },
  "language_info": {
   "codemirror_mode": {
    "name": "ipython",
    "version": 3
   },
   "file_extension": ".py",
   "mimetype": "text/x-python",
   "name": "python",
   "nbconvert_exporter": "python",
   "pygments_lexer": "ipython3",
   "version": "3.7.4"
  }
 },
 "nbformat": 4,
 "nbformat_minor": 2
}

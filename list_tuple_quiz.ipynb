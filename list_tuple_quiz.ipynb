{
 "cells": [
  {
   "cell_type": "markdown",
   "metadata": {},
   "source": [
    "<h1> <font color='red'>QUIZ LISTS and TUPLES</font></h1>"
   ]
  },
  {
   "cell_type": "markdown",
   "metadata": {},
   "source": [
    "<font face='courier new'>splittime='a/b//c/d///e'</font>"
   ]
  },
  {
   "cell_type": "code",
   "execution_count": null,
   "metadata": {},
   "outputs": [],
   "source": [
    "splittime='a/b//c/d///e'"
   ]
  },
  {
   "cell_type": "markdown",
   "metadata": {},
   "source": [
    "<h3><font color='red'>1. What would be the expected output of </font></h3>\n",
    "<h3><font face='courier new'>splittime.split('/')</font></h3>"
   ]
  },
  {
   "cell_type": "markdown",
   "metadata": {},
   "source": [
    "<h3>a.&nbsp;&nbsp;<font face='courier new'>['a','b','/','c','d','/','e']</font></h3>\n",
    "<h3>b.&nbsp;&nbsp;<font face='courier new'>['a','b','/','','c','d','/','','e']</font></h3>\n",
    "<h3>c.&nbsp;&nbsp;<font face='courier new'>['a','b','/','/','c','d','/','/','e']</font></h3>\n",
    "<h3>d.&nbsp;&nbsp;<font face='courier new'>['a','b','','c','d','','','e']</font></h3>\n"
   ]
  },
  {
   "cell_type": "code",
   "execution_count": null,
   "metadata": {},
   "outputs": [],
   "source": [
    "splittime.split('/')"
   ]
  },
  {
   "cell_type": "code",
   "execution_count": null,
   "metadata": {},
   "outputs": [],
   "source": [
    "splittime='a/b//c/d///e'"
   ]
  },
  {
   "cell_type": "markdown",
   "metadata": {},
   "source": [
    "<h3><font color='red'>2. What would be the expected output of </font></h3>\n",
    "<h3><font face='courier new'>splittime.split('//')</font></h3>"
   ]
  },
  {
   "cell_type": "markdown",
   "metadata": {},
   "source": [
    "<h3>a.&nbsp;&nbsp;<font face='courier new'>['a/b','c/d','/','e']</font></h3>\n",
    "<h3>b.&nbsp;&nbsp;<font face='courier new'>['a/b','c/d','','e']</font></h3>\n",
    "<h3>c.&nbsp;&nbsp;<font face='courier new'>['a/b','c/d','/','e']</font></h3>\n",
    "<h3>d.&nbsp;&nbsp;<font face='courier new'>['a/b','c/d','/e']</font></h3>\n"
   ]
  },
  {
   "cell_type": "code",
   "execution_count": null,
   "metadata": {},
   "outputs": [],
   "source": [
    "splittime.split('//')"
   ]
  },
  {
   "cell_type": "markdown",
   "metadata": {},
   "source": [
    "<h3><font face='courier new'>lang=['c','c++','java','python']</font></h3>"
   ]
  },
  {
   "cell_type": "code",
   "execution_count": 1,
   "metadata": {},
   "outputs": [],
   "source": [
    "lang=['c','c++','java','python']"
   ]
  },
  {
   "cell_type": "markdown",
   "metadata": {},
   "source": [
    "<h3><font color='red'>3. What would be the expected output of </font></h3>\n",
    "<h3><font face='courier new'>lang[0]</font></h3>"
   ]
  },
  {
   "cell_type": "code",
   "execution_count": 2,
   "metadata": {},
   "outputs": [
    {
     "data": {
      "text/plain": [
       "'c'"
      ]
     },
     "execution_count": 2,
     "metadata": {},
     "output_type": "execute_result"
    }
   ],
   "source": [
    "lang[0]"
   ]
  },
  {
   "cell_type": "markdown",
   "metadata": {},
   "source": [
    "<h3><font color='red'>4. What would be the expected output of </font></h3>\n",
    "<h3><font face='courier new'>lang[4]</font></h3>"
   ]
  },
  {
   "cell_type": "code",
   "execution_count": 3,
   "metadata": {},
   "outputs": [
    {
     "ename": "IndexError",
     "evalue": "list index out of range",
     "output_type": "error",
     "traceback": [
      "\u001b[1;31m---------------------------------------------------------------------------\u001b[0m",
      "\u001b[1;31mIndexError\u001b[0m                                Traceback (most recent call last)",
      "\u001b[1;32m<ipython-input-3-bc502ed78e35>\u001b[0m in \u001b[0;36m<module>\u001b[1;34m\u001b[0m\n\u001b[1;32m----> 1\u001b[1;33m \u001b[0mlang\u001b[0m\u001b[1;33m[\u001b[0m\u001b[1;36m4\u001b[0m\u001b[1;33m]\u001b[0m\u001b[1;33m\u001b[0m\u001b[1;33m\u001b[0m\u001b[0m\n\u001b[0m",
      "\u001b[1;31mIndexError\u001b[0m: list index out of range"
     ]
    }
   ],
   "source": [
    "lang[4]"
   ]
  },
  {
   "cell_type": "markdown",
   "metadata": {},
   "source": [
    "<h3><font color='red'>5. What would be the expected output of </font></h3>\n",
    "<h3><font face='courier new'>lang[-1]</font></h3>"
   ]
  },
  {
   "cell_type": "code",
   "execution_count": 4,
   "metadata": {},
   "outputs": [
    {
     "data": {
      "text/plain": [
       "'python'"
      ]
     },
     "execution_count": 4,
     "metadata": {},
     "output_type": "execute_result"
    }
   ],
   "source": [
    "lang[-1]"
   ]
  },
  {
   "cell_type": "markdown",
   "metadata": {},
   "source": [
    "<h3><font color='red'>5. What would be the expected output of </font></h3>\n",
    "<h3><font face='courier new'>lang[-5]</font></h3>"
   ]
  },
  {
   "cell_type": "code",
   "execution_count": 5,
   "metadata": {},
   "outputs": [
    {
     "ename": "IndexError",
     "evalue": "list index out of range",
     "output_type": "error",
     "traceback": [
      "\u001b[1;31m---------------------------------------------------------------------------\u001b[0m",
      "\u001b[1;31mIndexError\u001b[0m                                Traceback (most recent call last)",
      "\u001b[1;32m<ipython-input-5-b75ea783fa74>\u001b[0m in \u001b[0;36m<module>\u001b[1;34m\u001b[0m\n\u001b[1;32m----> 1\u001b[1;33m \u001b[0mlang\u001b[0m\u001b[1;33m[\u001b[0m\u001b[1;33m-\u001b[0m\u001b[1;36m5\u001b[0m\u001b[1;33m]\u001b[0m\u001b[1;33m\u001b[0m\u001b[1;33m\u001b[0m\u001b[0m\n\u001b[0m",
      "\u001b[1;31mIndexError\u001b[0m: list index out of range"
     ]
    }
   ],
   "source": [
    "lang[-5]"
   ]
  },
  {
   "cell_type": "markdown",
   "metadata": {},
   "source": [
    "<h3><font color='red'>5. What would be the expected output of </font></h3>\n",
    "<h3><font face='courier new'>lang[0:2]</font></h3>"
   ]
  },
  {
   "cell_type": "code",
   "execution_count": 6,
   "metadata": {},
   "outputs": [
    {
     "data": {
      "text/plain": [
       "['c', 'c++']"
      ]
     },
     "execution_count": 6,
     "metadata": {},
     "output_type": "execute_result"
    }
   ],
   "source": [
    "lang[0:2]"
   ]
  },
  {
   "cell_type": "markdown",
   "metadata": {},
   "source": [
    "<h3><font color='red'>6. What would be the expected output of </font></h3>\n",
    "<h3><font face='courier new'>lang[::2]</font></h3>"
   ]
  },
  {
   "cell_type": "code",
   "execution_count": 7,
   "metadata": {},
   "outputs": [
    {
     "data": {
      "text/plain": [
       "['c', 'java']"
      ]
     },
     "execution_count": 7,
     "metadata": {},
     "output_type": "execute_result"
    }
   ],
   "source": [
    "lang[::2]"
   ]
  },
  {
   "cell_type": "markdown",
   "metadata": {},
   "source": [
    "<h3><font color='red'>7. What would be the expected output of </font></h3>\n",
    "<h3><font face='courier new'>lang[::-2]</font></h3>"
   ]
  },
  {
   "cell_type": "code",
   "execution_count": 8,
   "metadata": {},
   "outputs": [
    {
     "data": {
      "text/plain": [
       "['python', 'c++']"
      ]
     },
     "execution_count": 8,
     "metadata": {},
     "output_type": "execute_result"
    }
   ],
   "source": [
    "lang[::-2]"
   ]
  },
  {
   "cell_type": "markdown",
   "metadata": {},
   "source": [
    "<h3><font color='red'>8. What would be the expected output of </font></h3>\n",
    "<h3><font face='courier new'>lang[::-1]</font></h3>"
   ]
  },
  {
   "cell_type": "code",
   "execution_count": 9,
   "metadata": {},
   "outputs": [
    {
     "data": {
      "text/plain": [
       "['python', 'java', 'c++', 'c']"
      ]
     },
     "execution_count": 9,
     "metadata": {},
     "output_type": "execute_result"
    }
   ],
   "source": [
    "lang[::-1]"
   ]
  },
  {
   "cell_type": "markdown",
   "metadata": {},
   "source": [
    "<h3><font color='red'>9. What would be the expected output of </font></h3>\n",
    "<h3><font face='courier new'>lang[4:]</font></h3>\n",
    "<h3>a.&nbsp;&nbsp;<font face='courier new'>Exception</font></h3>\n",
    "<h3>b.&nbsp;&nbsp;<font face='courier new'>['c','c++','java','python']</font></h3>\n",
    "<h3>c.&nbsp;&nbsp;<font face='courier new'>[]</font></h3>\n",
    "<h3>d.&nbsp;&nbsp;<font face='courier new'>['']</font></h3>"
   ]
  },
  {
   "cell_type": "code",
   "execution_count": 10,
   "metadata": {},
   "outputs": [
    {
     "data": {
      "text/plain": [
       "[]"
      ]
     },
     "execution_count": 10,
     "metadata": {},
     "output_type": "execute_result"
    }
   ],
   "source": [
    "lang[4:]"
   ]
  },
  {
   "cell_type": "markdown",
   "metadata": {},
   "source": [
    "<h3><font color='red'>9. What would be the expected output of </font></h3>\n",
    "<h3><font face='courier new'>lang[-6:]</font></h3>\n",
    "<h3>a.&nbsp;&nbsp;<font face='courier new'>Exception</font></h3>\n",
    "<h3>b.&nbsp;&nbsp;<font face='courier new'>['c','c++','java','python']</font></h3>\n",
    "<h3>c.&nbsp;&nbsp;<font face='courier new'>[]</font></h3>\n",
    "<h3>d.&nbsp;&nbsp;<font face='courier new'>['']</font></h3>"
   ]
  },
  {
   "cell_type": "code",
   "execution_count": 11,
   "metadata": {},
   "outputs": [
    {
     "data": {
      "text/plain": [
       "['c', 'c++', 'java', 'python']"
      ]
     },
     "execution_count": 11,
     "metadata": {},
     "output_type": "execute_result"
    }
   ],
   "source": [
    "lang[-6:]"
   ]
  },
  {
   "cell_type": "markdown",
   "metadata": {},
   "source": [
    "<h3><font color='red'>10. What would be the expected output of </font></h3>\n",
    "<h3><font face='courier new'>lang[-6:-2]</font></h3>\n",
    "<h3>a.&nbsp;&nbsp;<font face='courier new'>['java','c++','c']</font></h3>\n",
    "<h3>b.&nbsp;&nbsp;<font face='courier new'>['c','c++']</font></h3>\n",
    "<h3>c.&nbsp;&nbsp;<font face='courier new'>['c','c++','java']</font></h3>\n",
    "<h3>d.&nbsp;&nbsp;<font face='courier new'>['c++','c']</font></h3>"
   ]
  },
  {
   "cell_type": "code",
   "execution_count": 12,
   "metadata": {},
   "outputs": [
    {
     "data": {
      "text/plain": [
       "['c', 'c++']"
      ]
     },
     "execution_count": 12,
     "metadata": {},
     "output_type": "execute_result"
    }
   ],
   "source": [
    "lang[-6:-2]"
   ]
  },
  {
   "cell_type": "markdown",
   "metadata": {},
   "source": [
    "<h3><font color='red'>11. What would be the expected output of </font></h3>\n",
    "<h3><font face='courier new'>lang[-6:-4]</font></h3>\n",
    "<h3>a.&nbsp;&nbsp;<font face='courier new'>['python','java','c++','c']</font></h3>\n",
    "<h3>b.&nbsp;&nbsp;<font face='courier new'>['']</font></h3>\n",
    "<h3>c.&nbsp;&nbsp;<font face='courier new'>['c','c++','java','python']</font></h3>\n",
    "<h3>d.&nbsp;&nbsp;<font face='courier new'>[]</font></h3>"
   ]
  },
  {
   "cell_type": "code",
   "execution_count": 13,
   "metadata": {},
   "outputs": [
    {
     "data": {
      "text/plain": [
       "[]"
      ]
     },
     "execution_count": 13,
     "metadata": {},
     "output_type": "execute_result"
    }
   ],
   "source": [
    "lang[-6:-4]"
   ]
  },
  {
   "cell_type": "markdown",
   "metadata": {},
   "source": [
    "<font face='courier new'>lang=['c','c++','java','python']</font>\n",
    "<h3><font color='red'>12. What would be the expected output of </font></h3>\n",
    "<h3><font face='courier new'>lang.append(6,'pascal')</font></h3>\n",
    "<h3>a.&nbsp;&nbsp;<font face='courier new'>['c','c++','java','python','pascal']</font></h3>\n",
    "<h3>b.&nbsp;&nbsp;<font face='courier new'>['c','c++','java','python','','','pascal']</font></h3>\n",
    "<h3>c.&nbsp;&nbsp;<font face='courier new'>['c','c++','java','python','pascal','pascal','pascal']</font></h3>\n",
    "<h3>d.&nbsp;&nbsp;<font face='courier new'>Error</font></h3>"
   ]
  },
  {
   "cell_type": "code",
   "execution_count": 14,
   "metadata": {},
   "outputs": [
    {
     "ename": "TypeError",
     "evalue": "append() takes exactly one argument (2 given)",
     "output_type": "error",
     "traceback": [
      "\u001b[1;31m---------------------------------------------------------------------------\u001b[0m",
      "\u001b[1;31mTypeError\u001b[0m                                 Traceback (most recent call last)",
      "\u001b[1;32m<ipython-input-14-77759d01e4ef>\u001b[0m in \u001b[0;36m<module>\u001b[1;34m\u001b[0m\n\u001b[1;32m----> 1\u001b[1;33m \u001b[0mlang\u001b[0m\u001b[1;33m.\u001b[0m\u001b[0mappend\u001b[0m\u001b[1;33m(\u001b[0m\u001b[1;36m6\u001b[0m\u001b[1;33m,\u001b[0m\u001b[1;34m'pascal'\u001b[0m\u001b[1;33m)\u001b[0m\u001b[1;33m\u001b[0m\u001b[1;33m\u001b[0m\u001b[0m\n\u001b[0m",
      "\u001b[1;31mTypeError\u001b[0m: append() takes exactly one argument (2 given)"
     ]
    }
   ],
   "source": [
    "lang.append(6,'pascal')"
   ]
  },
  {
   "cell_type": "code",
   "execution_count": 15,
   "metadata": {},
   "outputs": [],
   "source": [
    "lang=['c','c++','java','python']"
   ]
  },
  {
   "cell_type": "markdown",
   "metadata": {},
   "source": [
    "<font face='courier new'>lang=['c','c++','java','python']</font>\n",
    "<h3><font color='red'>13. What would be the expected output of </font></h3>\n",
    "<h3><font face='courier new'>lang[4]='C#'</font></h3>\n",
    "<h3>a.&nbsp;&nbsp;<font face='courier new'>['c','c++','java','python','c#']</font></h3>\n",
    "<h3>b.&nbsp;&nbsp;<font face='courier new'>Error</font></h3>"
   ]
  },
  {
   "cell_type": "code",
   "execution_count": 17,
   "metadata": {},
   "outputs": [],
   "source": [
    "lang[3]='R'"
   ]
  },
  {
   "cell_type": "code",
   "execution_count": 18,
   "metadata": {},
   "outputs": [
    {
     "data": {
      "text/plain": [
       "['c', 'c++', 'java', 'R']"
      ]
     },
     "execution_count": 18,
     "metadata": {},
     "output_type": "execute_result"
    }
   ],
   "source": [
    "lang"
   ]
  },
  {
   "cell_type": "code",
   "execution_count": 19,
   "metadata": {},
   "outputs": [],
   "source": [
    "numbers=[1,2,3,4]"
   ]
  },
  {
   "cell_type": "markdown",
   "metadata": {},
   "source": [
    "<font face='courier new'>numbers=[1,2,3,4]</font>\n",
    "<h3><font color='red'>14. What would be the expected output of </font></h3>\n",
    "<h3><font face='courier new'>numbers[1:3]=[7,8,9]</font></h3>\n",
    "<h3>a.&nbsp;&nbsp;<font face='courier new'>Error</font></h3>\n",
    "<h3>b.&nbsp;&nbsp;<font face='courier new'>[1,7,8,9]</font></h3>\n",
    "<h3>c.&nbsp;&nbsp;<font face='courier new'>[1,7,8,4]</font></h3>\n",
    "<h3>d.&nbsp;&nbsp;<font face='courier new'>[1,7,8,9,4]</font></h3>"
   ]
  },
  {
   "cell_type": "code",
   "execution_count": 20,
   "metadata": {},
   "outputs": [],
   "source": [
    "numbers[1:3]=[7,8,9]"
   ]
  },
  {
   "cell_type": "code",
   "execution_count": 21,
   "metadata": {},
   "outputs": [
    {
     "data": {
      "text/plain": [
       "[1, 7, 8, 9, 4]"
      ]
     },
     "execution_count": 21,
     "metadata": {},
     "output_type": "execute_result"
    }
   ],
   "source": [
    "numbers"
   ]
  },
  {
   "cell_type": "code",
   "execution_count": 22,
   "metadata": {},
   "outputs": [],
   "source": [
    "numbers=[1,2,3,4]"
   ]
  },
  {
   "cell_type": "markdown",
   "metadata": {},
   "source": [
    "### <font face='courier new'>numbers=[1,2,3,4]</font>\n",
    "<h3><font color='red'>15. What would be the expected output of </font></h3>\n",
    "<h3><font face='courier new'>numbers[1:3]=[]</font></h3>\n",
    "<h3>a.&nbsp;&nbsp;<font face='courier new'>Error</font></h3>\n",
    "<h3>b.&nbsp;&nbsp;<font face='courier new'>[1,0,0,4]</font></h3>\n",
    "<h3>c.&nbsp;&nbsp;<font face='courier new'>[1,2,3,4]</font></h3>\n",
    "<h3>d.&nbsp;&nbsp;<font face='courier new'>[1,4]</font></h3>"
   ]
  },
  {
   "cell_type": "code",
   "execution_count": 23,
   "metadata": {},
   "outputs": [],
   "source": [
    "numbers[1:3]=[]"
   ]
  },
  {
   "cell_type": "code",
   "execution_count": 24,
   "metadata": {},
   "outputs": [
    {
     "data": {
      "text/plain": [
       "[1, 4]"
      ]
     },
     "execution_count": 24,
     "metadata": {},
     "output_type": "execute_result"
    }
   ],
   "source": [
    "numbers"
   ]
  },
  {
   "cell_type": "code",
   "execution_count": 25,
   "metadata": {},
   "outputs": [],
   "source": [
    "numbers=[1,2,3,4]"
   ]
  },
  {
   "cell_type": "markdown",
   "metadata": {},
   "source": [
    "### <font face='courier new'>numbers=[1,2,3,4]</font>\n",
    "<h3><font color='red'>15. What would be the expected output of </font></h3>\n",
    "<h3><font face='courier new'>numbers[1:3]=(98,99,100)</font></h3>\n",
    "<h3>a.&nbsp;&nbsp;<font face='courier new'>Error</font></h3>\n",
    "<h3>b.&nbsp;&nbsp;<font face='courier new'>[1,(98,99,100),4]</font></h3>\n",
    "<h3>c.&nbsp;&nbsp;<font face='courier new'>[1,98,99,100,4]</font></h3>\n",
    "<h3>d.&nbsp;&nbsp;<font face='courier new'>[1,98,99,100]</font></h3>"
   ]
  },
  {
   "cell_type": "code",
   "execution_count": 26,
   "metadata": {},
   "outputs": [],
   "source": [
    "numbers[1:3]=(98,99,100)"
   ]
  },
  {
   "cell_type": "code",
   "execution_count": 27,
   "metadata": {},
   "outputs": [
    {
     "data": {
      "text/plain": [
       "[1, 98, 99, 100, 4]"
      ]
     },
     "execution_count": 27,
     "metadata": {},
     "output_type": "execute_result"
    }
   ],
   "source": [
    "numbers"
   ]
  },
  {
   "cell_type": "code",
   "execution_count": 28,
   "metadata": {},
   "outputs": [],
   "source": [
    "numbers=[1,2,3,4]"
   ]
  },
  {
   "cell_type": "markdown",
   "metadata": {},
   "source": [
    "### <font face='courier new'>numbers=[1,2,3,4]</font>\n",
    "<h3><font color='red'>15. What would be the expected output of </font></h3>\n",
    "<h3><font face='courier new'>numbers[1:3]='wat?'</font></h3>\n",
    "<h3>a.&nbsp;&nbsp;<font face='courier new'>Error</font></h3>\n",
    "<h3>b.&nbsp;&nbsp;<font face='courier new'>[1,'w','a','t','?',4]</font></h3>\n",
    "<h3>c.&nbsp;&nbsp;<font face='courier new'>[1,'wat?',4]</font></h3>\n",
    "<h3>d.&nbsp;&nbsp;<font face='courier new'>[1,'w','a','t','?']</font></h3>"
   ]
  },
  {
   "cell_type": "code",
   "execution_count": 29,
   "metadata": {},
   "outputs": [],
   "source": [
    "numbers[1:3]='wat?'"
   ]
  },
  {
   "cell_type": "code",
   "execution_count": 30,
   "metadata": {},
   "outputs": [
    {
     "data": {
      "text/plain": [
       "[1, 'w', 'a', 't', '?', 4]"
      ]
     },
     "execution_count": 30,
     "metadata": {},
     "output_type": "execute_result"
    }
   ],
   "source": [
    "numbers"
   ]
  },
  {
   "cell_type": "code",
   "execution_count": 31,
   "metadata": {},
   "outputs": [],
   "source": [
    "numbers=[1,2,3,4]"
   ]
  },
  {
   "cell_type": "markdown",
   "metadata": {},
   "source": [
    "### <font face='courier new'>numbers=[1,2,3,4]</font>\n",
    "<h3><font color='red'>15. What would be the expected output of </font></h3>\n",
    "<h3><font face='courier new'>numbers.count(5)</font></h3>\n",
    "<h3>a.&nbsp;&nbsp;<font face='courier new'>Error</font></h3>\n",
    "<h3>b.&nbsp;&nbsp;<font face='courier new'>0</font></h3>\n",
    "<h3>c.&nbsp;&nbsp;<font face='courier new'>1</font></h3>\n",
    "<h3>d.&nbsp;&nbsp;<font face='courier new'>''</font></h3>"
   ]
  },
  {
   "cell_type": "code",
   "execution_count": 32,
   "metadata": {},
   "outputs": [
    {
     "data": {
      "text/plain": [
       "0"
      ]
     },
     "execution_count": 32,
     "metadata": {},
     "output_type": "execute_result"
    }
   ],
   "source": [
    "numbers.count(5)"
   ]
  },
  {
   "cell_type": "markdown",
   "metadata": {},
   "source": [
    "<h3><font color='red'>16. What would be the expected output of </font></h3>\n",
    "<font face='courier new'>one_marx=('Groucho')</font>"
   ]
  },
  {
   "cell_type": "code",
   "execution_count": 36,
   "metadata": {},
   "outputs": [],
   "source": [
    "one_marx=('Groucho',)"
   ]
  },
  {
   "cell_type": "code",
   "execution_count": 38,
   "metadata": {},
   "outputs": [
    {
     "data": {
      "text/plain": [
       "tuple"
      ]
     },
     "execution_count": 38,
     "metadata": {},
     "output_type": "execute_result"
    }
   ],
   "source": [
    "type(one_marx)"
   ]
  },
  {
   "cell_type": "markdown",
   "metadata": {},
   "source": [
    "\n",
    "<h3><font color='red'>17. What would be the expected output of </font></h3>\n",
    " <font face='courier new'>type('Groucho',)</font>"
   ]
  },
  {
   "cell_type": "code",
   "execution_count": 39,
   "metadata": {},
   "outputs": [
    {
     "data": {
      "text/plain": [
       "str"
      ]
     },
     "execution_count": 39,
     "metadata": {},
     "output_type": "execute_result"
    }
   ],
   "source": [
    "type('Groucho',)"
   ]
  },
  {
   "cell_type": "markdown",
   "metadata": {},
   "source": [
    "<h3><font color='red'>18. What would be the expected output of </font></h3>\n",
    " <font face='courier new'>type(('Groucho',))</font>"
   ]
  },
  {
   "cell_type": "code",
   "execution_count": 40,
   "metadata": {},
   "outputs": [
    {
     "data": {
      "text/plain": [
       "tuple"
      ]
     },
     "execution_count": 40,
     "metadata": {},
     "output_type": "execute_result"
    }
   ],
   "source": [
    "type(('Groucho',))"
   ]
  },
  {
   "cell_type": "code",
   "execution_count": 41,
   "metadata": {},
   "outputs": [],
   "source": [
    "marx_tuple=('Groucho','Chico','Harpo')"
   ]
  },
  {
   "cell_type": "markdown",
   "metadata": {},
   "source": [
    "<h3><font color='red'>19. What would be the expected output of </font></h3>\n",
    " <font face='courier new'>x,y= marx_tuple</font>"
   ]
  },
  {
   "cell_type": "code",
   "execution_count": null,
   "metadata": {},
   "outputs": [],
   "source": []
  }
 ],
 "metadata": {
  "kernelspec": {
   "display_name": "Python 3",
   "language": "python",
   "name": "python3"
  },
  "language_info": {
   "codemirror_mode": {
    "name": "ipython",
    "version": 3
   },
   "file_extension": ".py",
   "mimetype": "text/x-python",
   "name": "python",
   "nbconvert_exporter": "python",
   "pygments_lexer": "ipython3",
   "version": "3.7.4"
  }
 },
 "nbformat": 4,
 "nbformat_minor": 2
}

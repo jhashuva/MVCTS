{
 "cells": [
  {
   "cell_type": "markdown",
   "metadata": {},
   "source": [
    "## namespace :\n",
    "<ul>\n",
    "    <li>A namespace is a mapping from names to objects.</li>\n",
    "    <li> Examples of namespaces are: the set of built-in names (containing functions such as abs(), and built-in exception names);</li>\n",
    " </ul>"
   ]
  },
  {
   "cell_type": "markdown",
   "metadata": {},
   "source": [
    "## The simplest form of class definition looks like this<br>\n",
    "<font color='green' face=\"courier new\"><i>\n",
    "    <pre>\n",
    "    class <b>ClassName</b>:\n",
    "    //<statement-1//>\n",
    "    .\n",
    "    .\n",
    "    .\n",
    "    //<statement-N//>\n",
    "    </pre></i></font>"
   ]
  },
  {
   "cell_type": "markdown",
   "metadata": {},
   "source": [
    "<ul>\n",
    "    <li>Python is an object-oriented programming language. It allows us to develop applications using an Object Oriented approach. In Python, we can easily create and use classes and objects.</li>\n",
    "    <li>Major principles of object-oriented programming system are given below.\n",
    "<ul><li>\n",
    "    Object</li>\n",
    "    <li>Class</li>\n",
    "    <li>Method</li>\n",
    "    <li>Inheritance</li>\n",
    "<li>Polymorphism</li>\n",
    "    <li>Data Abstraction</li>\n",
    "    <li>Encapsulation</li>\n",
    "        </ul>\n",
    "    <li>When a class definition is entered, a new namespace is created, and used as the local scope</li>\n",
    "    <li>The object is an entity that has state and behavior. It may be any real-world object like the mouse, keyboard, chair, table, pen, etc.</li>\n",
    "    <li>The method is a function that is associated with an object.</li>\n",
    "    </ul>"
   ]
  },
  {
   "cell_type": "code",
   "execution_count": 21,
   "metadata": {},
   "outputs": [
    {
     "name": "stdout",
     "output_type": "stream",
     "text": [
      "ID: 10 \n",
      "Name: John\n"
     ]
    }
   ],
   "source": [
    "class Employee:  \n",
    "    id = 10;  \n",
    "    name = \"John\"  \n",
    "    def display (self):  \n",
    "        print(\"ID: %d \\nName: %s\"%(self.id,self.name))  \n",
    "\n",
    "emp = Employee()  \n",
    "emp.display()  "
   ]
  },
  {
   "cell_type": "code",
   "execution_count": 22,
   "metadata": {},
   "outputs": [],
   "source": [
    "class MyClass:\n",
    "    \"\"\"A simple example class\"\"\"\n",
    "    i = 12345\n",
    "\n",
    "    def f(self):\n",
    "        return 'hello world'"
   ]
  },
  {
   "cell_type": "code",
   "execution_count": 23,
   "metadata": {},
   "outputs": [
    {
     "data": {
      "text/plain": [
       "'hello world'"
      ]
     },
     "execution_count": 23,
     "metadata": {},
     "output_type": "execute_result"
    }
   ],
   "source": [
    "x = MyClass()\n",
    "x.f()"
   ]
  },
  {
   "cell_type": "markdown",
   "metadata": {},
   "source": [
    "<ul>\n",
    "<li>A constructor is a special kind of method that Python calls when it instantiates an object using the definitions found in your class.</li>\n",
    "    <li> Python relies on the constructor to perform tasks such as initializing (assigning values to) any instance variables that the object will need when it starts.</li>\n",
    "   <li>The name of a constructor is always the same, __init__(). </li>\n",
    "    <li>The constructor can accept arguments when necessary to create the object. </li>\n",
    "    <li>When you create a class without a constructor, Python automatically creates a default constructor for you that doesn’t do anything.</li>\n",
    "    <li>Every class must have a constructor, even if it simply relies on the default constructor.</li>\n",
    "   "
   ]
  },
  {
   "cell_type": "code",
   "execution_count": 24,
   "metadata": {},
   "outputs": [],
   "source": [
    "class MyClass:\n",
    "    Greeting =''\n",
    "    def __init__(self, Name=\"there\"):\n",
    "        self.Greeting = Name + \"!\"\n",
    "    def SayHello(self):\n",
    "        print(\"Hello {0}\".format(self.Greeting))"
   ]
  },
  {
   "cell_type": "code",
   "execution_count": 29,
   "metadata": {},
   "outputs": [
    {
     "name": "stdout",
     "output_type": "stream",
     "text": [
      "Hello Uttar!\n"
     ]
    }
   ],
   "source": [
    "hi=MyClass(\"Uttar\")\n",
    "\n",
    "hi.SayHello()"
   ]
  },
  {
   "cell_type": "markdown",
   "metadata": {},
   "source": [
    "<ul> <li>In this case, there are two versions of __init__(). The first doesn’t require any special input because it uses the default value for the Name of “there”.The second requires a name as an input. It sets Greeting to the value of this name, plus an exclamation mark. </li>\n",
    "    </ul>\n"
   ]
  },
  {
   "cell_type": "code",
   "execution_count": 4,
   "metadata": {},
   "outputs": [],
   "source": [
    "MyInstance = MyClass() "
   ]
  },
  {
   "cell_type": "code",
   "execution_count": 5,
   "metadata": {},
   "outputs": [
    {
     "name": "stdout",
     "output_type": "stream",
     "text": [
      "Hello there!\n"
     ]
    }
   ],
   "source": [
    "MyInstance.SayHello()"
   ]
  },
  {
   "cell_type": "code",
   "execution_count": 7,
   "metadata": {},
   "outputs": [],
   "source": [
    "MyInstance = MyClass(\"Amy\")"
   ]
  },
  {
   "cell_type": "code",
   "execution_count": 8,
   "metadata": {},
   "outputs": [
    {
     "name": "stdout",
     "output_type": "stream",
     "text": [
      "Hello Amy!\n"
     ]
    }
   ],
   "source": [
    "MyInstance.SayHello()"
   ]
  },
  {
   "cell_type": "code",
   "execution_count": null,
   "metadata": {},
   "outputs": [],
   "source": []
  },
  {
   "cell_type": "code",
   "execution_count": 13,
   "metadata": {},
   "outputs": [
    {
     "name": "stdout",
     "output_type": "stream",
     "text": [
      "22\n",
      "23\n"
     ]
    }
   ],
   "source": [
    "class Robot(object):\n",
    "    def __init__(self):\n",
    "      self.__version = 22\n",
    "    \n",
    "    def getVersion(self):\n",
    "        print(self.__version)\n",
    "    \n",
    "    def setVersion(self, version):\n",
    "        self.__version = version\n",
    "\n",
    "obj = Robot()\n",
    "obj.getVersion()\n",
    "obj.setVersion(23)\n",
    "obj.getVersion()"
   ]
  },
  {
   "cell_type": "code",
   "execution_count": 31,
   "metadata": {},
   "outputs": [],
   "source": [
    "class MyFirstClass:\n",
    "    pass"
   ]
  },
  {
   "cell_type": "code",
   "execution_count": 33,
   "metadata": {},
   "outputs": [
    {
     "name": "stdout",
     "output_type": "stream",
     "text": [
      "<__main__.MyFirstClass object at 0x0000022C708C0D48>\n",
      "<__main__.MyFirstClass object at 0x0000022C7090F408>\n"
     ]
    }
   ],
   "source": [
    "a=MyFirstClass()\n",
    "print(a)\n",
    "b=MyFirstClass()\n",
    "print(b)"
   ]
  },
  {
   "cell_type": "code",
   "execution_count": 35,
   "metadata": {},
   "outputs": [],
   "source": [
    "class Point:\n",
    "    pass"
   ]
  },
  {
   "cell_type": "code",
   "execution_count": 36,
   "metadata": {},
   "outputs": [],
   "source": [
    "p1 = Point()\n",
    "p2 = Point()"
   ]
  },
  {
   "cell_type": "code",
   "execution_count": 37,
   "metadata": {},
   "outputs": [],
   "source": [
    "p1.x = 5\n",
    "p1.y = 4"
   ]
  },
  {
   "cell_type": "code",
   "execution_count": 38,
   "metadata": {},
   "outputs": [],
   "source": [
    "p2.x = 3\n",
    "p2.y = 6"
   ]
  },
  {
   "cell_type": "code",
   "execution_count": 39,
   "metadata": {},
   "outputs": [
    {
     "name": "stdout",
     "output_type": "stream",
     "text": [
      "5 4\n",
      "3 6\n"
     ]
    }
   ],
   "source": [
    "print(p1.x, p1.y)\n",
    "print(p2.x, p2.y)"
   ]
  },
  {
   "cell_type": "code",
   "execution_count": 41,
   "metadata": {},
   "outputs": [],
   "source": [
    "class Point:\n",
    "    def reset(self):\n",
    "        self.x = 0\n",
    "        self.y = 0"
   ]
  },
  {
   "cell_type": "code",
   "execution_count": 42,
   "metadata": {},
   "outputs": [
    {
     "name": "stdout",
     "output_type": "stream",
     "text": [
      "0 0\n"
     ]
    }
   ],
   "source": [
    "p = Point()\n",
    "p.reset()\n",
    "print(p.x, p.y)"
   ]
  },
  {
   "cell_type": "markdown",
   "metadata": {},
   "source": [
    "The self argument to a method is simply a reference to the object that the method is being invoked on. We can access attributes and methods of that object as if it were any another object."
   ]
  },
  {
   "cell_type": "code",
   "execution_count": null,
   "metadata": {},
   "outputs": [],
   "source": []
  },
  {
   "cell_type": "code",
   "execution_count": null,
   "metadata": {},
   "outputs": [],
   "source": []
  }
 ],
 "metadata": {
  "kernelspec": {
   "display_name": "Python 3",
   "language": "python",
   "name": "python3"
  },
  "language_info": {
   "codemirror_mode": {
    "name": "ipython",
    "version": 3
   },
   "file_extension": ".py",
   "mimetype": "text/x-python",
   "name": "python",
   "nbconvert_exporter": "python",
   "pygments_lexer": "ipython3",
   "version": "3.7.4"
  }
 },
 "nbformat": 4,
 "nbformat_minor": 2
}
